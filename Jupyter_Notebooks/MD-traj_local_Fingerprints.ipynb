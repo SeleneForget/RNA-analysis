{
 "cells": [
  {
   "cell_type": "markdown",
   "id": "f4f5d2ca-04e0-4f97-bce3-d524dce6ea8f",
   "metadata": {
    "tags": []
   },
   "source": [
    "# Modules"
   ]
  },
  {
   "cell_type": "code",
   "execution_count": null,
   "id": "67d76337-779c-4ac8-96fa-a700f7421f9e",
   "metadata": {},
   "outputs": [],
   "source": [
    "#Basics\n",
    "import sys\n",
    "import os\n",
    "import numpy as np\n",
    "import pandas as pd\n",
    "\n",
    "# Visuals\n",
    "import seaborn as sns\n",
    "import matplotlib.pyplot as plt\n",
    "from matplotlib.colors import ListedColormap\n",
    "from matplotlib.pyplot import cm\n",
    "\n",
    "\n",
    "# Specific to biomolecular simulations\n",
    "import MDAnalysis as mda\n",
    "\n",
    "# My functions\n",
    "sys.path.append( '/home/forget/Documents/repositories/hairpin_common_repo' )\n",
    "import kiwimodules as ki\n"
   ]
  },
  {
   "cell_type": "markdown",
   "id": "270cc44f-0d55-49a4-88dd-75b9aa2d32fa",
   "metadata": {
    "tags": []
   },
   "source": [
    "# Charge datas"
   ]
  },
  {
   "cell_type": "markdown",
   "id": "fe0de64d",
   "metadata": {},
   "source": [
    "Here we charge the df which contains all the values of the data, which has already been computed for each frame of the trajectory, and which have been sotred as an array, inside a CSV file format. \n",
    "\n",
    "The array must contain several columns, which are required for the production of the plot (see bellow).\n",
    "\n"
   ]
  },
  {
   "cell_type": "code",
   "execution_count": null,
   "id": "7cfbb678-d521-4956-997c-fdd2b1b72404",
   "metadata": {},
   "outputs": [],
   "source": [
    "# Load the data\n",
    "myPath = \"\"\n",
    "myName = \"\"\n",
    "\n",
    "df = pd.read_csv( myPath + myName + '.csv' )\n"
   ]
  },
  {
   "cell_type": "markdown",
   "id": "7b599369-6ae8-4259-a041-c1e76be8ce4c",
   "metadata": {},
   "source": [
    "# Plot"
   ]
  },
  {
   "cell_type": "code",
   "execution_count": null,
   "id": "df433e1f-999b-4d4e-a10b-731528568e6a",
   "metadata": {},
   "outputs": [],
   "source": [
    "# These are the data from the df, and which will be used for the analysis.\n",
    "Data_names = ['d_A-1:O2prime-G8:N1', \n",
    "              'd_A-1:O2prime-A10:N6', \n",
    "              'd_A-1:O2prime-A38:N6', \n",
    "              'd_A-1:O2prime-G+1:O1P', \n",
    "              'd_A-1:O2prime-G+1:O2P', \n",
    "              'd_G+1:O1P-G8:N2', \n",
    "              'd_G+1:O2P-G8:N2', \n",
    "              'A-1_puckering_pseudorot', \n",
    "              'IAA']\n",
    "\n",
    "Long_names = [\"A-1:O2' - G8:N1\", \n",
    "             \"A-1:O2' - A10:N6\", \n",
    "             \"A-1:O2' - A38:N6\", \n",
    "             \"A-1:O2'- G+1:pro-Sp\", \n",
    "             \"A-1:O2' - G+1:pro-Rp\", \n",
    "             \"G+1:pro-Sp - G8:N2\", \n",
    "             \"G+1:pro-Rp - G8:N2\", \n",
    "             \"A-1 pseudo-rotation (°)*\", \n",
    "             'IAA (°)']"
   ]
  },
  {
   "cell_type": "code",
   "execution_count": null,
   "id": "d57ccf72-b830-45d6-a88a-15ca44741567",
   "metadata": {
    "tags": []
   },
   "outputs": [],
   "source": [
    "custom_colors = ['white','firebrick', 'lightcoral', 'mistyrose','lightsteelblue','navy','darkgoldenrod','tan']\n",
    "custom_cmap = ListedColormap(custom_colors)\n",
    "\n",
    "\n",
    "# Load time component.   \n",
    "time= df['Time']\n",
    "print(\"Last time of simu = \",time[len(time)-1])\n",
    "print(\"nb of points=\",len(time))\n",
    "print(\"size of step = \", time[0],time[1], str(float(time[len(time)-1])/len(time)))\n",
    "step = int(time[1])\n",
    "\n",
    "new_xticks = [0,100,200,300,400,500,600]\n",
    "xticks_positions = [i*1000/step for i in new_xticks]\n",
    "\n",
    "\n",
    "# Organize the data in a 2D array\n",
    "Emptyarray=np.zeros((len(time),len(Data_names))) \n",
    "\n",
    "for d in [0,1,2,3,4,5,6]:\n",
    "    exec('data = '+df[Data_names[d]][0])\n",
    "    for k in range(len(data)):\n",
    "        if data[k]<=3.1 :\n",
    "            Emptyarray[k,d]=1\n",
    "        elif 3.1<data[k]<=4.1 :\n",
    "            Emptyarray[k,d]=2\n",
    "        elif 4.1<data[k]<=5.1 :\n",
    "            Emptyarray[k,d]=3\n",
    "\n",
    "d=7\n",
    "exec('pu = '+df[Data_names[d]][0])\n",
    "for k in range(len(pu)):\n",
    "    if 0<= pu[k] <= 36:\n",
    "        Emptyarray[k,d]=4\n",
    "    elif  144 <= pu[k] <= 180:\n",
    "        Emptyarray[k,d]=5\n",
    "\n",
    "\n",
    "d=8\n",
    "exec('IAA = '+df[Data_names[d]][0])\n",
    "for k in range(len(IAA)):\n",
    "    if 140 <= IAA[k] :\n",
    "        #print(\"k=\",k,\"d=\",d)\n",
    "        Emptyarray[k,d]=6\n",
    "    elif 125 <= IAA[k] < 140:\n",
    "        Emptyarray[k,d]=7\n",
    "\n",
    "\n",
    "Bool_df=pd.DataFrame(Emptyarray,columns = Long_names)\n",
    "Bool_df_tr = Bool_df.transpose()\n",
    "\n",
    "\n",
    "# Plot the data\n",
    "f, ax = plt.subplots(figsize=(30.8,6))\n",
    "mask = np.triu(np.ones_like(Bool_df_tr, dtype=bool))\n",
    "cmap=sns.color_palette(\"cubehelix_r\", as_cmap=True)\n",
    "\n",
    "# Draw the heatmap with the mask and correct aspect ratio\n",
    "sns.heatmap(Bool_df_tr, cmap=custom_cmap,vmin=0, vmax=7)\n",
    "\n",
    "# Ajouter un cadre en ajustant les limites des axes\n",
    "ax.spines['top'].set_visible(True)\n",
    "ax.spines['bottom'].set_visible(True)\n",
    "ax.spines['right'].set_visible(True)\n",
    "ax.spines['left'].set_visible(True)\n",
    "\n",
    "\n",
    "# Set the new xticks labels and their positions\n",
    "ax.set_xticks(xticks_positions)\n",
    "ax.set_xticklabels(new_xticks, fontsize=26, rotation = 0)  # You can customize the rotation\n",
    "ax.tick_params(axis='y', labelsize= 28)\n",
    "\n",
    "# Customize the x-axis label text\n",
    "x_axis_label_text = \"Time (ns)\"  # Replace with your desired label text\n",
    "\n",
    "# Set the x-axis label\n",
    "ax.set_xlabel(x_axis_label_text, fontsize=28)\n",
    "\n",
    "# Customize the rotation of the x-axis label if needed\n",
    "ax.xaxis.set_label_coords(0.5, -0.13)  # Adjust the coordinates for positioning\n",
    "\n",
    "# Save the figure\n",
    "plt.savefig( savePath + myName + \"_reduced-fingerprints.pdf\", bbox_inches='tight')\n",
    "\n",
    "# Show the plot\n",
    "plt.show()\n"
   ]
  }
 ],
 "metadata": {
  "kernelspec": {
   "display_name": "mdaenv2",
   "language": "python",
   "name": "python3"
  },
  "language_info": {
   "codemirror_mode": {
    "name": "ipython",
    "version": 3
   },
   "file_extension": ".py",
   "mimetype": "text/x-python",
   "name": "python",
   "nbconvert_exporter": "python",
   "pygments_lexer": "ipython3",
   "version": "3.11.5"
  }
 },
 "nbformat": 4,
 "nbformat_minor": 5
}
